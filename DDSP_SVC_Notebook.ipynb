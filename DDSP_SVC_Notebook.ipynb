{
  "cells": [
    {
      "cell_type": "markdown",
      "metadata": {
        "id": "view-in-github",
        "colab_type": "text"
      },
      "source": [
        "<a href=\"https://colab.research.google.com/github/StruckX/struck-notebooks/blob/main/DDSP_SVC_Notebook.ipynb\" target=\"_parent\"><img src=\"https://colab.research.google.com/assets/colab-badge.svg\" alt=\"Open In Colab\"/></a>"
      ]
    },
    {
      "cell_type": "markdown",
      "metadata": {
        "id": "_1ZRVbTR_1go"
      },
      "source": [
        "# DDSP-SVC Notebook\n",
        "Made by Struck | [DDSP-SVC GitHub](https://github.com/yxlllc/DDSP-SVC)"
      ]
    },
    {
      "cell_type": "markdown",
      "metadata": {
        "id": "UXrnfmRWJ7JV"
      },
      "source": [
        "# Setup"
      ]
    },
    {
      "cell_type": "code",
      "execution_count": null,
      "metadata": {
        "cellView": "form",
        "id": "rPF6IO-JZgsS"
      },
      "outputs": [],
      "source": [
        "#@markdown ## Check Device\n",
        "#@markdown Check if you're using a gpu.\n",
        "!nvidia-smi"
      ]
    },
    {
      "cell_type": "code",
      "execution_count": null,
      "metadata": {
        "cellView": "form",
        "id": "x4Rx7yqbACwl"
      },
      "outputs": [],
      "source": [
        "#@markdown ## Mount Drive\n",
        "#@markdown If you want to save your stuffs to Google Drive\n",
        "from google.colab import drive\n",
        "drive.mount('/content/drive')"
      ]
    },
    {
      "cell_type": "code",
      "execution_count": null,
      "metadata": {
        "cellView": "form",
        "id": "BMkybqlfAJcQ"
      },
      "outputs": [],
      "source": [
        "#@markdown ## Install DDSP-SVC\n",
        "#@markdown Clone the repo and install dependencies\n",
        "\n",
        "import os\n",
        "from IPython.display import clear_output\n",
        "\n",
        "!git clone https://github.com/yxlllc/DDSP-SVC\n",
        "\n",
        "%cd -q /content/DDSP-SVC\n",
        "\n",
        "!apt install p7zip-rar\n",
        "!pip install --upgrade -q pip setuptools numpy numba\n",
        "!pip install -q pyworld praat-parselmouth torchcrepe einops local_attention wave fairseq transformers tensorboardX\n",
        "\n",
        "!mkdir -p \"pretrain/hubert\" \"pretrain/contentvec\" &> /dev/null\n",
        "!wget -nc -q --show-progress -O \"pretrain/hubert/hubert-soft-0d54a1f4.pt\" \"https://github.com/bshall/hubert/releases/download/v0.1/hubert-soft-0d54a1f4.pt\"\n",
        "!wget -nc -q --show-progress -O \"pretrain/contentvec/checkpoint_best_legacy_500.pt\" \"https://github.com/fishaudio/fish-diffusion/releases/download/v1.12/content-vec-best-legacy-500.pt\"\n",
        "\n",
        "clear_output()\n",
        "\n",
        "print(\"Done! Restrating runtime...\");\n",
        "\n",
        "os.system(f\"sleep 1; kill {os.getpid()}\")"
      ]
    },
    {
      "cell_type": "markdown",
      "metadata": {
        "id": "VDjmNvtTI1tR"
      },
      "source": [
        "# Training\n",
        "\n",
        "**Disclaimer:** Please make sure to only train DDSP-SVC models with legally obtained authorized data, and do not use these models and any audio they synthesize for illegal purposes. The author of this repository *(and notebook)* is not responsible for any infringement, fraud and other illegal acts caused by the use of these model checkpoints and audio. ([DDSP-SVC README](https://github.com/yxlllc/DDSP-SVC/blob/master/README.md))"
      ]
    },
    {
      "cell_type": "code",
      "execution_count": null,
      "metadata": {
        "id": "Bj9orgNoBIYz",
        "cellView": "form"
      },
      "outputs": [],
      "source": [
        "#@markdown ## Extract Dataset\n",
        "#@markdown Run only if you're making a new model or want to preprocess again.\n",
        "\n",
        "#@markdown All archives that `7z` supports such as `7z`, `zip`, `rar`, etc. can be used.\n",
        "#@markdown <details>\n",
        "#@markdown <summary>Your files inside the archive must look <b>EXACTLY</b> like this (<a>click me!</a>)</summary>\n",
        "#@markdown\n",
        "#@markdown ![Dataset Structure](https://cdn.discordapp.com/attachments/1061982906895057009/1112176630597697576/simplified-dataset.png)<br>\n",
        "#@markdown **Optional:** You can manually add your own validation audios in `data/val/audio`, it must look the same as above. It is recommended to have at least ≤5 audios per speaker.\n",
        "#@markdown </details>\n",
        "\n",
        "%cd -q /content/DDSP-SVC\n",
        "\n",
        "archive_path = \"/content/model-dataset.7z\" #@param {type: \"string\"}\n",
        "\n",
        "!rm -r ./data/train/audio\n",
        "\n",
        "print(\"Extracting audios...\")\n",
        "!7z x -o\"data/train/audio\" '{archive_path}' -bso0 -bsp1\n",
        "\n",
        "print(\"Done!\")"
      ]
    },
    {
      "cell_type": "code",
      "execution_count": null,
      "metadata": {
        "id": "IUmOnUucHr6f",
        "cellView": "form"
      },
      "outputs": [],
      "source": [
        "#@markdown ## Extract Preprocessed Dataset\n",
        "#@markdown Run this instead if you already preprocessed your dataset.\n",
        "\n",
        "%cd -q /content/DDSP-SVC\n",
        "\n",
        "archive_path = \"/content/drive/MyDrive/preprocessed-dataset.7z\" #@param {type: \"string\"}\n",
        "config_path = \"/content/drive/MyDrive/combsub-sins-etc.yaml\" #@param {type: \"string\"}\n",
        "\n",
        "!rm -r ./data/*\n",
        "\n",
        "print(\"Extracting preprocessed dataset...\")\n",
        "!7z x '{archive_path}' -o\"data\" -bso0 -bsp1\n",
        "!cp '{config_path}' configs/\n",
        "\n",
        "print(\"Done!\")"
      ]
    },
    {
      "cell_type": "code",
      "execution_count": null,
      "metadata": {
        "cellView": "form",
        "id": "DURHy49bO-6c"
      },
      "outputs": [],
      "source": [
        "\n",
        "#@markdown ## Configurations\n",
        "\n",
        "import yaml\n",
        "\n",
        "#@markdown Model config:\n",
        "model_name = \"model-ai\" #@param {type: \"string\"}\n",
        "\n",
        "synthesizer = \"combsub\" #@param [\"combsub\",\"combsub-old\", \"sins\"]\n",
        "\n",
        "pitch_extractor = \"crepe\" #@param [\"crepe\", \"parselmouth\", \"harvest\", \"dio\"]\n",
        "\n",
        "number_of_speaker = 1 #@param {type:\"integer\"}\n",
        "\n",
        "encoder = \"contentvec768l12\" #@param [\"hubertsoft\", \"contentvec\", \"contentvec768\", \"contentvec768l12\"]\n",
        "\n",
        "#@markdown Save checkpoints to a directory:\n",
        "use_save_dir = False #@param {type: \"boolean\"}\n",
        "save_dir_path = \"exp/model-ai\" #@param {type: \"string\"}\n",
        "\n",
        "if encoder == \"hubertsoft\":\n",
        "  encoder_ckpt = \"pretrain/hubert/hubert-soft-0d54a1f4.pt\"\n",
        "  enc_out_ch = 256\n",
        "else:\n",
        "  encoder_ckpt = \"pretrain/contentvec/checkpoint_best_legacy_500.pt\"\n",
        "  enc_out_ch = 256 if encoder == \"contentvec\" else 768\n",
        "\n",
        "with open(f\"configs/{synthesizer}.yaml\", \"r+\") as f:\n",
        "  y = yaml.safe_load(f)\n",
        "  y['data']['f0_extractor'] = pitch_extractor\n",
        "  y['data']['encoder'] = encoder\n",
        "  y['data']['encoder_out_channels'] = enc_out_ch\n",
        "  y['data']['encoder_ckpt'] = encoder_ckpt\n",
        "  y['model']['n_spk'] = number_of_speaker if number_of_speaker > 0 else 1\n",
        "  y['env']['expdir'] = save_dir_path if use_save_dir else f\"exp/{model_name}\"\n",
        "  f.seek(0)\n",
        "  f.write(yaml.dump(y, default_flow_style=False, sort_keys=False))\n",
        "  f.truncate()\n",
        "\n",
        "print(\"Done!\")"
      ]
    },
    {
      "cell_type": "code",
      "execution_count": null,
      "metadata": {
        "colab": {
          "background_save": true
        },
        "id": "G4QeZLv7L2ZP",
        "cellView": "form"
      },
      "outputs": [],
      "source": [
        "#@markdown ## Start Preprocess\n",
        "#@markdown Skip if you already have a preprocessed data.\n",
        "\n",
        "import os\n",
        "\n",
        "save_to_drive = True #@param {type: \"boolean\"}\n",
        "\n",
        "if os.path.exists(\"data/val/audio\"):\n",
        "  if not any(files.endswith('.wav') for files in os.listdir(\"data/val/audio\")):\n",
        "    !python draw.py\n",
        "else:\n",
        "  !python draw.py\n",
        "\n",
        "!python preprocess.py -c configs/{synthesizer}.yaml\n",
        "\n",
        "if save_to_drive:\n",
        "  model_drive_path = f'/content/drive/MyDrive/DDSP-SVC/data/{model_name}'\n",
        "  !mkdir -p '{model_drive_path}'\n",
        "  !7z a -mx=1 '{model_drive_path}/preprocessed_dataset.7z' ./data/*\n",
        "  !cp 'configs/{synthesizer}.yaml' '{model_drive_path}'\n",
        "  print(f\"Done! Files saved at {model_drive_path}\")\n",
        "else:\n",
        "  !7z a -mx=1 '/content/{model_name}_data/preprocessed_dataset.7z' ./data/*\n",
        "  !cp 'configs/{synthesizer}.yaml' '/content/{model_name}_data'\n",
        "  print(f\"Done! Files saved at /content/{model_name}_data\")"
      ]
    },
    {
      "cell_type": "code",
      "execution_count": null,
      "metadata": {
        "id": "iYLDYGIiWH8g",
        "cellView": "form"
      },
      "outputs": [],
      "source": [
        "#@markdown ## Start Tensorboard\n",
        "#@markdown Visualize your model's progress. Note that predicted audios aren't enhanced, only in inference.\n",
        "\n",
        "import IPython\n",
        "\n",
        "%reload_ext tensorboard\n",
        "\n",
        "if use_save_dir:\n",
        "  %tensorboard --logdir '{save_dir_path}'\n",
        "else:\n",
        "  %tensorboard --logdir 'exp/{model_name}'\n",
        "\n",
        "display(IPython.display.HTML('''\n",
        "<button onclick=\"window.open(document.querySelector('iframe').src, '__blank')\">Open in New Tab</button> \n",
        "<button onclick=\"document.querySelector('iframe').style.display = 'none'\">Hide TensorBoard</button>\n",
        "<button onclick=\"document.querySelector('iframe').style.display = 'block'\">Show TensorBoard</button> \n",
        "'''))"
      ]
    },
    {
      "cell_type": "code",
      "execution_count": null,
      "metadata": {
        "cellView": "form",
        "id": "tTk1HzY8W-Rj"
      },
      "outputs": [],
      "source": [
        "#@markdown ## Start Training\n",
        "#@markdown Train! Train! Train!\n",
        "\n",
        "!python train.py -c configs/{synthesizer}.yaml"
      ]
    },
    {
      "cell_type": "markdown",
      "source": [
        "# Inference"
      ],
      "metadata": {
        "id": "RX__1JXkh-ig"
      }
    },
    {
      "cell_type": "code",
      "source": [
        "#@markdown ## Voice Conversion\n",
        "#@markdown Main Settings:\n",
        "\n",
        "%cd -q /content/DDSP-SVC\n",
        "\n",
        "input_audio = \"/content/drive/input.wav\" #@param {type: \"string\"}\n",
        "\n",
        "model_pt = \"/content/drive/model_0.pt\" #@param {type: \"string\"}\n",
        "\n",
        "output_audio = \"/content/output.flac\" #@param {type: \"string\"}\n",
        "\n",
        "keychange = 0 #@param {type:\"integer\"}\n",
        "\n",
        "pitch_extractor = \"crepe\" #@param [\"crepe\", \"parselmouth\", \"harvest\", \"dio\"]\n",
        "\n",
        "#@markdown Speaker Settings:\n",
        "\n",
        "speaker_id = 1 #@param {type:\"integer\"}\n",
        "\n",
        "mix_speaker = False #@param {type: \"boolean\"}\n",
        "\n",
        "mix_ratio = \"1:0.50, 2:0.50\" #@param {type: \"string\"}\n",
        "\n",
        "#@markdown Enhancer Settings:\n",
        "\n",
        "use_enhancer = True #@param {type: \"boolean\"}\n",
        "\n",
        "enhancer = \"OpenVPI\" #@param [\"OpenVPI\", \"fishaudio\"]\n",
        "\n",
        "adaptive_key = 0 #@param {type:\"integer\"}\n",
        "\n",
        "if not 'installed_enhancer' in globals():\n",
        "  installed_enhancer = \"None\"\n",
        "\n",
        "if use_enhancer and not installed_enhancer == enhancer:\n",
        "  !rm -r pretrain/nsf_hifigan\n",
        "  if enhancer == \"OpenVPI\":\n",
        "    !wget -q --show-progress -O /content/nsf_hifigan.zip \"https://github.com/openvpi/vocoders/releases/download/nsf-hifigan-v1/nsf_hifigan_20221211.zip\"\n",
        "  else:\n",
        "    !wget -q --show-progress -O /content/nsf_hifigan.zip \"https://github.com/fishaudio/fish-diffusion/releases/download/v2.0.0/nsf_hifigan-stable-v1.zip\"\n",
        "  !7z x /content/nsf_hifigan.zip -o\"pretrain\" -bso0 -bsp1\n",
        "  !rm /content/nsf_hifigan.zip\n",
        "  installed_enhancer = enhancer\n",
        "\n",
        "infer_flags = f'''\\\n",
        "-i \"{input_audio}\" \\\n",
        "-m \"{model_pt}\" \\\n",
        "-o \"{output_audio}\" \\\n",
        "-k {keychange} \\\n",
        "-pe {pitch_extractor} \\\n",
        "{f\"-mix '{{{mix_ratio}}}'\" if mix_speaker else f\"-id {speaker_id}\"} \\\n",
        "{f\"-eak {adaptive_key}\" if use_enhancer else \"-e false\"}\n",
        "'''\n",
        "\n",
        "!python main.py {infer_flags}"
      ],
      "metadata": {
        "id": "xhnqgPaYvvAU",
        "cellView": "form"
      },
      "execution_count": null,
      "outputs": []
    },
    {
      "cell_type": "code",
      "source": [
        "#@markdown ## Download Output\n",
        "\n",
        "from IPython.display import display, Audio\n",
        "\n",
        "preview_only = True #@param {type:\"boolean\"}\n",
        "\n",
        "if preview_only:\n",
        "  audio = open(output_audio, \"rb\").read()\n",
        "  display(Audio(audio))\n",
        "else:\n",
        "  from google.colab import files\n",
        "  files.download(output_audio)"
      ],
      "metadata": {
        "cellView": "form",
        "id": "gYb89c0lSVhn"
      },
      "execution_count": null,
      "outputs": []
    }
  ],
  "metadata": {
    "accelerator": "GPU",
    "colab": {
      "provenance": [],
      "include_colab_link": true
    },
    "gpuClass": "standard",
    "kernelspec": {
      "display_name": "Python 3",
      "name": "python3"
    },
    "language_info": {
      "name": "python"
    }
  },
  "nbformat": 4,
  "nbformat_minor": 0
}